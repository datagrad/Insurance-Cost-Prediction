{
  "nbformat": 4,
  "nbformat_minor": 0,
  "metadata": {
    "colab": {
      "name": "Insurance Cost Prediction.ipynb",
      "provenance": [],
      "toc_visible": true,
      "authorship_tag": "ABX9TyOF+gx5k17/TBEe8+UmJQoZ",
      "include_colab_link": true
    },
    "kernelspec": {
      "name": "python3",
      "display_name": "Python 3"
    },
    "language_info": {
      "name": "python"
    }
  },
  "cells": [
    {
      "cell_type": "markdown",
      "metadata": {
        "id": "view-in-github",
        "colab_type": "text"
      },
      "source": [
        "<a href=\"https://colab.research.google.com/github/datagrad/Insurance-Cost-Prediction/blob/main/Insurance_Cost_Prediction.ipynb\" target=\"_parent\"><img src=\"https://colab.research.google.com/assets/colab-badge.svg\" alt=\"Open In Colab\"/></a>"
      ]
    },
    {
      "cell_type": "markdown",
      "metadata": {
        "id": "-7s7oJQ_9aYw"
      },
      "source": [
        "# Insurance Cost Prediction"
      ]
    },
    {
      "cell_type": "markdown",
      "metadata": {
        "id": "6gIs1JB19im0"
      },
      "source": [
        "With this project we will be creating a machine learning model to be used by insurance companies to determine the annual insurance cost of a person based on the attributes like:\n",
        "1.\tGender\n",
        "2.\tAge\n",
        "3.\tBMI\n",
        "4.\tNumber of Children\n",
        "5.\tSmoking Habit\n",
        "6.\tResidence\n"
      ]
    },
    {
      "cell_type": "markdown",
      "metadata": {
        "id": "k4el6TBlB2rJ"
      },
      "source": [
        "The complete project will be done in following steps:\n",
        "1.\tExploring and cleaning the dataset\n",
        "2.\tData preparation for training\n",
        "3.\tCreating a Machine Learning model\n",
        "4.\tTraining the model to fit the data\n",
        "5.\tMaking predictions using the trained model\n",
        "\n"
      ]
    },
    {
      "cell_type": "markdown",
      "metadata": {
        "id": "tMbctU2F87FB"
      },
      "source": [
        "## Import Libraries"
      ]
    },
    {
      "cell_type": "code",
      "metadata": {
        "id": "RbjQZPZM87FF"
      },
      "source": [
        "# Data analysis and wrangling\n",
        "import pandas as pd\n",
        "import numpy as np\n",
        "\n",
        "# Data visualisation\n",
        "import matplotlib.pyplot as plt\n",
        "import seaborn as sns\n",
        "get_ipython().run_line_magic('matplotlib', 'inline')\n",
        "\n",
        "#remove warnings\n",
        "import warnings\n",
        "warnings.filterwarnings('ignore')\n",
        "\n",
        "#sklearn\n",
        "from sklearn.model_selection import train_test_split, GridSearchCV\n",
        "from sklearn import linear_model\n",
        "from sklearn.linear_model import LinearRegression\n",
        "from sklearn import metrics\n",
        "from sklearn.preprocessing import StandardScaler\n",
        "from sklearn.ensemble import RandomForestRegressor"
      ],
      "execution_count": 1,
      "outputs": []
    },
    {
      "cell_type": "code",
      "metadata": {
        "id": "PBhnLwMi87FJ",
        "colab": {
          "base_uri": "https://localhost:8080/",
          "height": 206
        },
        "outputId": "3444f8e4-684b-4980-ca46-e1bdf3dbcd6a"
      },
      "source": [
        "data = pd.read_csv('https://raw.githubusercontent.com/datagrad/Insurance-Cost-Prediction/main/Insurance_Cost.csv')\n",
        "data.head()"
      ],
      "execution_count": 2,
      "outputs": [
        {
          "output_type": "execute_result",
          "data": {
            "text/html": [
              "<div>\n",
              "<style scoped>\n",
              "    .dataframe tbody tr th:only-of-type {\n",
              "        vertical-align: middle;\n",
              "    }\n",
              "\n",
              "    .dataframe tbody tr th {\n",
              "        vertical-align: top;\n",
              "    }\n",
              "\n",
              "    .dataframe thead th {\n",
              "        text-align: right;\n",
              "    }\n",
              "</style>\n",
              "<table border=\"1\" class=\"dataframe\">\n",
              "  <thead>\n",
              "    <tr style=\"text-align: right;\">\n",
              "      <th></th>\n",
              "      <th>age</th>\n",
              "      <th>sex</th>\n",
              "      <th>bmi</th>\n",
              "      <th>children</th>\n",
              "      <th>smoker</th>\n",
              "      <th>region</th>\n",
              "      <th>charges</th>\n",
              "    </tr>\n",
              "  </thead>\n",
              "  <tbody>\n",
              "    <tr>\n",
              "      <th>0</th>\n",
              "      <td>19</td>\n",
              "      <td>female</td>\n",
              "      <td>27.9</td>\n",
              "      <td>0</td>\n",
              "      <td>yes</td>\n",
              "      <td>southwest</td>\n",
              "      <td>16884.92</td>\n",
              "    </tr>\n",
              "    <tr>\n",
              "      <th>1</th>\n",
              "      <td>18</td>\n",
              "      <td>male</td>\n",
              "      <td>33.8</td>\n",
              "      <td>1</td>\n",
              "      <td>no</td>\n",
              "      <td>southeast</td>\n",
              "      <td>1725.55</td>\n",
              "    </tr>\n",
              "    <tr>\n",
              "      <th>2</th>\n",
              "      <td>28</td>\n",
              "      <td>male</td>\n",
              "      <td>33.0</td>\n",
              "      <td>3</td>\n",
              "      <td>no</td>\n",
              "      <td>southeast</td>\n",
              "      <td>4449.46</td>\n",
              "    </tr>\n",
              "    <tr>\n",
              "      <th>3</th>\n",
              "      <td>33</td>\n",
              "      <td>male</td>\n",
              "      <td>22.7</td>\n",
              "      <td>0</td>\n",
              "      <td>no</td>\n",
              "      <td>northwest</td>\n",
              "      <td>21984.47</td>\n",
              "    </tr>\n",
              "    <tr>\n",
              "      <th>4</th>\n",
              "      <td>32</td>\n",
              "      <td>male</td>\n",
              "      <td>28.9</td>\n",
              "      <td>0</td>\n",
              "      <td>no</td>\n",
              "      <td>northwest</td>\n",
              "      <td>3866.86</td>\n",
              "    </tr>\n",
              "  </tbody>\n",
              "</table>\n",
              "</div>"
            ],
            "text/plain": [
              "   age     sex   bmi  children smoker     region   charges\n",
              "0   19  female  27.9         0    yes  southwest  16884.92\n",
              "1   18    male  33.8         1     no  southeast   1725.55\n",
              "2   28    male  33.0         3     no  southeast   4449.46\n",
              "3   33    male  22.7         0     no  northwest  21984.47\n",
              "4   32    male  28.9         0     no  northwest   3866.86"
            ]
          },
          "metadata": {},
          "execution_count": 2
        }
      ]
    },
    {
      "cell_type": "code",
      "metadata": {
        "id": "6RbLCBUu87FM",
        "colab": {
          "base_uri": "https://localhost:8080/"
        },
        "outputId": "cb547353-a012-4023-a4ba-e32aaa3af9e4"
      },
      "source": [
        "#finding the number of rows and columns of the data.\n",
        "data.shape"
      ],
      "execution_count": 3,
      "outputs": [
        {
          "output_type": "execute_result",
          "data": {
            "text/plain": [
              "(1338, 7)"
            ]
          },
          "metadata": {},
          "execution_count": 3
        }
      ]
    },
    {
      "cell_type": "markdown",
      "metadata": {
        "id": "wqbWADgQ87FN"
      },
      "source": [
        "## Data Exploration\n"
      ]
    },
    {
      "cell_type": "code",
      "metadata": {
        "id": "-2NZRV3987FO",
        "colab": {
          "base_uri": "https://localhost:8080/"
        },
        "outputId": "189d227c-df93-49e1-c2ff-f596a02c7aec"
      },
      "source": [
        "data.info()"
      ],
      "execution_count": 4,
      "outputs": [
        {
          "output_type": "stream",
          "name": "stdout",
          "text": [
            "<class 'pandas.core.frame.DataFrame'>\n",
            "RangeIndex: 1338 entries, 0 to 1337\n",
            "Data columns (total 7 columns):\n",
            " #   Column    Non-Null Count  Dtype  \n",
            "---  ------    --------------  -----  \n",
            " 0   age       1338 non-null   int64  \n",
            " 1   sex       1338 non-null   object \n",
            " 2   bmi       1338 non-null   float64\n",
            " 3   children  1338 non-null   int64  \n",
            " 4   smoker    1338 non-null   object \n",
            " 5   region    1338 non-null   object \n",
            " 6   charges   1338 non-null   float64\n",
            "dtypes: float64(2), int64(2), object(3)\n",
            "memory usage: 73.3+ KB\n"
          ]
        }
      ]
    },
    {
      "cell_type": "code",
      "metadata": {
        "id": "0Xcmr7Xz87FP",
        "colab": {
          "base_uri": "https://localhost:8080/",
          "height": 300
        },
        "outputId": "394f9906-6875-4620-b63f-96c9a28eefa2"
      },
      "source": [
        "data.describe()"
      ],
      "execution_count": 5,
      "outputs": [
        {
          "output_type": "execute_result",
          "data": {
            "text/html": [
              "<div>\n",
              "<style scoped>\n",
              "    .dataframe tbody tr th:only-of-type {\n",
              "        vertical-align: middle;\n",
              "    }\n",
              "\n",
              "    .dataframe tbody tr th {\n",
              "        vertical-align: top;\n",
              "    }\n",
              "\n",
              "    .dataframe thead th {\n",
              "        text-align: right;\n",
              "    }\n",
              "</style>\n",
              "<table border=\"1\" class=\"dataframe\">\n",
              "  <thead>\n",
              "    <tr style=\"text-align: right;\">\n",
              "      <th></th>\n",
              "      <th>age</th>\n",
              "      <th>bmi</th>\n",
              "      <th>children</th>\n",
              "      <th>charges</th>\n",
              "    </tr>\n",
              "  </thead>\n",
              "  <tbody>\n",
              "    <tr>\n",
              "      <th>count</th>\n",
              "      <td>1338.000000</td>\n",
              "      <td>1338.000000</td>\n",
              "      <td>1338.000000</td>\n",
              "      <td>1338.000000</td>\n",
              "    </tr>\n",
              "    <tr>\n",
              "      <th>mean</th>\n",
              "      <td>39.207025</td>\n",
              "      <td>30.665471</td>\n",
              "      <td>1.094918</td>\n",
              "      <td>13270.422414</td>\n",
              "    </tr>\n",
              "    <tr>\n",
              "      <th>std</th>\n",
              "      <td>14.049960</td>\n",
              "      <td>6.098382</td>\n",
              "      <td>1.205493</td>\n",
              "      <td>12110.011240</td>\n",
              "    </tr>\n",
              "    <tr>\n",
              "      <th>min</th>\n",
              "      <td>18.000000</td>\n",
              "      <td>16.000000</td>\n",
              "      <td>0.000000</td>\n",
              "      <td>1121.870000</td>\n",
              "    </tr>\n",
              "    <tr>\n",
              "      <th>25%</th>\n",
              "      <td>27.000000</td>\n",
              "      <td>26.300000</td>\n",
              "      <td>0.000000</td>\n",
              "      <td>4740.287500</td>\n",
              "    </tr>\n",
              "    <tr>\n",
              "      <th>50%</th>\n",
              "      <td>39.000000</td>\n",
              "      <td>30.400000</td>\n",
              "      <td>1.000000</td>\n",
              "      <td>9382.030000</td>\n",
              "    </tr>\n",
              "    <tr>\n",
              "      <th>75%</th>\n",
              "      <td>51.000000</td>\n",
              "      <td>34.700000</td>\n",
              "      <td>2.000000</td>\n",
              "      <td>16639.915000</td>\n",
              "    </tr>\n",
              "    <tr>\n",
              "      <th>max</th>\n",
              "      <td>64.000000</td>\n",
              "      <td>53.100000</td>\n",
              "      <td>5.000000</td>\n",
              "      <td>63770.430000</td>\n",
              "    </tr>\n",
              "  </tbody>\n",
              "</table>\n",
              "</div>"
            ],
            "text/plain": [
              "               age          bmi     children       charges\n",
              "count  1338.000000  1338.000000  1338.000000   1338.000000\n",
              "mean     39.207025    30.665471     1.094918  13270.422414\n",
              "std      14.049960     6.098382     1.205493  12110.011240\n",
              "min      18.000000    16.000000     0.000000   1121.870000\n",
              "25%      27.000000    26.300000     0.000000   4740.287500\n",
              "50%      39.000000    30.400000     1.000000   9382.030000\n",
              "75%      51.000000    34.700000     2.000000  16639.915000\n",
              "max      64.000000    53.100000     5.000000  63770.430000"
            ]
          },
          "metadata": {},
          "execution_count": 5
        }
      ]
    },
    {
      "cell_type": "code",
      "metadata": {
        "id": "Xv9A_TOr87FQ",
        "colab": {
          "base_uri": "https://localhost:8080/",
          "height": 639
        },
        "outputId": "9aa9fd37-7064-4bb4-c2e3-753a6cd1b593"
      },
      "source": [
        "plt.figure(figsize = (12, 10))\n",
        "sns.distplot(data['age'])\n",
        "plt.title(\"Age Distribution\")"
      ],
      "execution_count": 6,
      "outputs": [
        {
          "output_type": "execute_result",
          "data": {
            "text/plain": [
              "Text(0.5, 1.0, 'Age Distribution')"
            ]
          },
          "metadata": {},
          "execution_count": 6
        },
        {
          "output_type": "display_data",
          "data": {
            "image/png": "[encoded data removed]",
            "text/plain": [
              "<Figure size 864x720 with 1 Axes>"
            ]
          },
          "metadata": {
            "needs_background": "light"
          }
        }
      ]
    },
    {
      "cell_type": "code",
      "metadata": {
        "id": "F44fYoCv87FR",
        "colab": {
          "base_uri": "https://localhost:8080/",
          "height": 639
        },
        "outputId": "76691fb9-d148-4f44-d159-6ebdfdfe54f5"
      },
      "source": [
        "plt.figure(figsize = (12, 10))\n",
        "sns.distplot(data['bmi'])\n",
        "plt.title(\"Bmi Distribution\")"
      ],
      "execution_count": 7,
      "outputs": [
        {
          "output_type": "execute_result",
          "data": {
            "text/plain": [
              "Text(0.5, 1.0, 'Bmi Distribution')"
            ]
          },
          "metadata": {},
          "execution_count": 7
        },
        {
          "output_type": "display_data",
          "data": {
            "image/png": "[encoded data removed]",
            "text/plain": [
              "<Figure size 864x720 with 1 Axes>"
            ]
          },
          "metadata": {
            "needs_background": "light"
          }
        }
      ]
    },
    {
      "cell_type": "code",
      "metadata": {
        "id": "ttI9CRsl87FT",
        "colab": {
          "base_uri": "https://localhost:8080/",
          "height": 410
        },
        "outputId": "c682d156-d514-4bea-e4e8-0e359944597c"
      },
      "source": [
        "sns.set()\n",
        "plt.figure(figsize=(6,6))\n",
        "sns.countplot(data['children'])\n",
        "plt.title('Children')\n",
        "plt.show()"
      ],
      "execution_count": 8,
      "outputs": [
        {
          "output_type": "display_data",
          "data": {
            "image/png": "[encoded data removed]",
            "text/plain": [
              "<Figure size 432x432 with 1 Axes>"
            ]
          },
          "metadata": {}
        }
      ]
    },
    {
      "cell_type": "code",
      "metadata": {
        "id": "gATvkryd87FU",
        "colab": {
          "base_uri": "https://localhost:8080/",
          "height": 645
        },
        "outputId": "75704234-0de4-4afc-8f74-a260ce510f15"
      },
      "source": [
        "\n",
        "plt.figure(figsize = (12, 10))\n",
        "sns.distplot(data['charges'])\n",
        "plt.title(\"Charges Distribution\")"
      ],
      "execution_count": 9,
      "outputs": [
        {
          "output_type": "execute_result",
          "data": {
            "text/plain": [
              "Text(0.5, 1.0, 'Charges Distribution')"
            ]
          },
          "metadata": {},
          "execution_count": 9
        },
        {
          "output_type": "display_data",
          "data": {
            "image/png": "[encoded data removed]",
            "text/plain": [
              "<Figure size 864x720 with 1 Axes>"
            ]
          },
          "metadata": {}
        }
      ]
    },
    {
      "cell_type": "code",
      "metadata": {
        "id": "V4-X1-jE87FW",
        "colab": {
          "base_uri": "https://localhost:8080/",
          "height": 410
        },
        "outputId": "eccece91-0293-4096-9b27-1b1f2bccffda"
      },
      "source": [
        "sns.set()\n",
        "plt.figure(figsize=(6,6))\n",
        "sns.countplot(data['smoker'])\n",
        "plt.title('Smoker')\n",
        "plt.show()"
      ],
      "execution_count": 10,
      "outputs": [
        {
          "output_type": "display_data",
          "data": {
            "image/png": "[encoded data removed]",
            "text/plain": [
              "<Figure size 432x432 with 1 Axes>"
            ]
          },
          "metadata": {}
        }
      ]
    },
    {
      "cell_type": "code",
      "metadata": {
        "id": "9JfM5Tfj87FX",
        "colab": {
          "base_uri": "https://localhost:8080/",
          "height": 410
        },
        "outputId": "113d3135-68b4-409c-836b-dddd58dedd86"
      },
      "source": [
        "sns.set()\n",
        "plt.figure(figsize=(6,6))\n",
        "sns.countplot(data['sex'])\n",
        "plt.title('Sex')\n",
        "plt.show()"
      ],
      "execution_count": 11,
      "outputs": [
        {
          "output_type": "display_data",
          "data": {
            "image/png": "[encoded data removed]",
            "text/plain": [
              "<Figure size 432x432 with 1 Axes>"
            ]
          },
          "metadata": {}
        }
      ]
    },
    {
      "cell_type": "code",
      "metadata": {
        "id": "-5GU4mV587FY",
        "colab": {
          "base_uri": "https://localhost:8080/",
          "height": 303
        },
        "outputId": "36a8664f-7051-42b5-a7b5-15fbf34106c2"
      },
      "source": [
        "sns.scatterplot(data = data, x = 'age', y = 'charges', hue = 'smoker')"
      ],
      "execution_count": 12,
      "outputs": [
        {
          "output_type": "execute_result",
          "data": {
            "text/plain": [
              "<matplotlib.axes._subplots.AxesSubplot at 0x7f10f9184250>"
            ]
          },
          "metadata": {},
          "execution_count": 12
        },
        {
          "output_type": "display_data",
          "data": {
            "image/png": "[encoded data removed]",
            "text/plain": [
              "<Figure size 432x288 with 1 Axes>"
            ]
          },
          "metadata": {}
        }
      ]
    },
    {
      "cell_type": "markdown",
      "metadata": {
        "id": "0ewVACEo87FZ"
      },
      "source": [
        "This shows that,the charges increases with age, the older a person is, the higher their insurance. Hence, a 60 year old will pay higher insurance charges than a 20 year old. The graph also shows that, smokers generally have a higher insurance charge than non-smokers."
      ]
    },
    {
      "cell_type": "markdown",
      "metadata": {
        "id": "gAOxh69F87Fa"
      },
      "source": [
        "## Missing Values"
      ]
    },
    {
      "cell_type": "code",
      "metadata": {
        "id": "YqXNpFBj87Fb",
        "colab": {
          "base_uri": "https://localhost:8080/"
        },
        "outputId": "38bbfb4d-141f-44d3-b373-2c8d22bff99b"
      },
      "source": [
        "data.isnull().sum()"
      ],
      "execution_count": 13,
      "outputs": [
        {
          "output_type": "execute_result",
          "data": {
            "text/plain": [
              "age         0\n",
              "sex         0\n",
              "bmi         0\n",
              "children    0\n",
              "smoker      0\n",
              "region      0\n",
              "charges     0\n",
              "dtype: int64"
            ]
          },
          "metadata": {},
          "execution_count": 13
        }
      ]
    },
    {
      "cell_type": "markdown",
      "metadata": {
        "id": "6xlVDwJM87Fc"
      },
      "source": [
        "There are no missing figures in the data"
      ]
    },
    {
      "cell_type": "markdown",
      "metadata": {
        "id": "C7VrzN1h87Fd"
      },
      "source": [
        "## Boolean Creatin\n"
      ]
    },
    {
      "cell_type": "markdown",
      "metadata": {
        "id": "56fb0pMF87Fe"
      },
      "source": [
        "We will have to use onehot encoding to be able to get dummy variables for the model."
      ]
    },
    {
      "cell_type": "code",
      "metadata": {
        "id": "BHGpNtCU87Ff"
      },
      "source": [
        "data.replace({'sex':{'male':0, 'female':1}}, inplace=True)"
      ],
      "execution_count": 14,
      "outputs": []
    },
    {
      "cell_type": "code",
      "metadata": {
        "id": "d3xtOcM087Fg"
      },
      "source": [
        "data.replace({'smoker':{'yes':0, 'no':1}}, inplace=True)"
      ],
      "execution_count": 15,
      "outputs": []
    },
    {
      "cell_type": "code",
      "metadata": {
        "id": "k77L4VbH87Fg"
      },
      "source": [
        "data.replace({'region':{'southeast':0, 'southwest':1, 'northeast':2, 'northwest':3}}, inplace=True)"
      ],
      "execution_count": 16,
      "outputs": []
    },
    {
      "cell_type": "code",
      "metadata": {
        "id": "JrAuVoPF87Fh",
        "colab": {
          "base_uri": "https://localhost:8080/",
          "height": 206
        },
        "outputId": "dff9b214-5fdb-4632-c0c2-c4efbc4139ae"
      },
      "source": [
        "data.head()"
      ],
      "execution_count": 17,
      "outputs": [
        {
          "output_type": "execute_result",
          "data": {
            "text/html": [
              "<div>\n",
              "<style scoped>\n",
              "    .dataframe tbody tr th:only-of-type {\n",
              "        vertical-align: middle;\n",
              "    }\n",
              "\n",
              "    .dataframe tbody tr th {\n",
              "        vertical-align: top;\n",
              "    }\n",
              "\n",
              "    .dataframe thead th {\n",
              "        text-align: right;\n",
              "    }\n",
              "</style>\n",
              "<table border=\"1\" class=\"dataframe\">\n",
              "  <thead>\n",
              "    <tr style=\"text-align: right;\">\n",
              "      <th></th>\n",
              "      <th>age</th>\n",
              "      <th>sex</th>\n",
              "      <th>bmi</th>\n",
              "      <th>children</th>\n",
              "      <th>smoker</th>\n",
              "      <th>region</th>\n",
              "      <th>charges</th>\n",
              "    </tr>\n",
              "  </thead>\n",
              "  <tbody>\n",
              "    <tr>\n",
              "      <th>0</th>\n",
              "      <td>19</td>\n",
              "      <td>1</td>\n",
              "      <td>27.9</td>\n",
              "      <td>0</td>\n",
              "      <td>0</td>\n",
              "      <td>1</td>\n",
              "      <td>16884.92</td>\n",
              "    </tr>\n",
              "    <tr>\n",
              "      <th>1</th>\n",
              "      <td>18</td>\n",
              "      <td>0</td>\n",
              "      <td>33.8</td>\n",
              "      <td>1</td>\n",
              "      <td>1</td>\n",
              "      <td>0</td>\n",
              "      <td>1725.55</td>\n",
              "    </tr>\n",
              "    <tr>\n",
              "      <th>2</th>\n",
              "      <td>28</td>\n",
              "      <td>0</td>\n",
              "      <td>33.0</td>\n",
              "      <td>3</td>\n",
              "      <td>1</td>\n",
              "      <td>0</td>\n",
              "      <td>4449.46</td>\n",
              "    </tr>\n",
              "    <tr>\n",
              "      <th>3</th>\n",
              "      <td>33</td>\n",
              "      <td>0</td>\n",
              "      <td>22.7</td>\n",
              "      <td>0</td>\n",
              "      <td>1</td>\n",
              "      <td>3</td>\n",
              "      <td>21984.47</td>\n",
              "    </tr>\n",
              "    <tr>\n",
              "      <th>4</th>\n",
              "      <td>32</td>\n",
              "      <td>0</td>\n",
              "      <td>28.9</td>\n",
              "      <td>0</td>\n",
              "      <td>1</td>\n",
              "      <td>3</td>\n",
              "      <td>3866.86</td>\n",
              "    </tr>\n",
              "  </tbody>\n",
              "</table>\n",
              "</div>"
            ],
            "text/plain": [
              "   age  sex   bmi  children  smoker  region   charges\n",
              "0   19    1  27.9         0       0       1  16884.92\n",
              "1   18    0  33.8         1       1       0   1725.55\n",
              "2   28    0  33.0         3       1       0   4449.46\n",
              "3   33    0  22.7         0       1       3  21984.47\n",
              "4   32    0  28.9         0       1       3   3866.86"
            ]
          },
          "metadata": {},
          "execution_count": 17
        }
      ]
    },
    {
      "cell_type": "markdown",
      "metadata": {
        "id": "wUSSBvku87Fj"
      },
      "source": [
        "## Model Creation"
      ]
    },
    {
      "cell_type": "markdown",
      "metadata": {
        "id": "ZLTs1bO587Fj"
      },
      "source": [
        "### Linear Regression"
      ]
    },
    {
      "cell_type": "code",
      "metadata": {
        "id": "RdCqvhMV87Fk"
      },
      "source": [
        "x = data.drop('charges', axis='columns')\n",
        "y = data['charges']"
      ],
      "execution_count": 18,
      "outputs": []
    },
    {
      "cell_type": "code",
      "metadata": {
        "id": "L7GxZy7l87Fp",
        "colab": {
          "base_uri": "https://localhost:8080/"
        },
        "outputId": "09100c10-3b5d-448f-b157-ea815493f5a7"
      },
      "source": [
        "print(x)"
      ],
      "execution_count": 19,
      "outputs": [
        {
          "output_type": "stream",
          "name": "stdout",
          "text": [
            "      age  sex   bmi  children  smoker  region\n",
            "0      19    1  27.9         0       0       1\n",
            "1      18    0  33.8         1       1       0\n",
            "2      28    0  33.0         3       1       0\n",
            "3      33    0  22.7         0       1       3\n",
            "4      32    0  28.9         0       1       3\n",
            "...   ...  ...   ...       ...     ...     ...\n",
            "1333   50    0  31.0         3       1       3\n",
            "1334   18    1  31.9         0       1       2\n",
            "1335   18    1  36.9         0       1       0\n",
            "1336   21    1  25.8         0       1       1\n",
            "1337   61    1  29.1         0       0       3\n",
            "\n",
            "[1338 rows x 6 columns]\n"
          ]
        }
      ]
    },
    {
      "cell_type": "code",
      "metadata": {
        "id": "o_OHsWhQ87Fq",
        "colab": {
          "base_uri": "https://localhost:8080/"
        },
        "outputId": "a43d90da-641a-44f3-9da5-0cd5f149f069"
      },
      "source": [
        "print(y)"
      ],
      "execution_count": 20,
      "outputs": [
        {
          "output_type": "stream",
          "name": "stdout",
          "text": [
            "0       16884.92\n",
            "1        1725.55\n",
            "2        4449.46\n",
            "3       21984.47\n",
            "4        3866.86\n",
            "          ...   \n",
            "1333    10600.55\n",
            "1334     2205.98\n",
            "1335     1629.83\n",
            "1336     2007.95\n",
            "1337    29141.36\n",
            "Name: charges, Length: 1338, dtype: float64\n"
          ]
        }
      ]
    },
    {
      "cell_type": "code",
      "metadata": {
        "id": "D3irXzE-87Fr"
      },
      "source": [
        "#split the data into 80% training and 20% testing data\n",
        "x_train, x_test, y_train, y_test = train_test_split(x,y, test_size=0.2,random_state=42)"
      ],
      "execution_count": 21,
      "outputs": []
    },
    {
      "cell_type": "code",
      "metadata": {
        "id": "LZslkwIA87Fs",
        "colab": {
          "base_uri": "https://localhost:8080/"
        },
        "outputId": "501e022c-099d-40b0-b50b-980e403c8c61"
      },
      "source": [
        "print(x.shape, x_train.shape, x_test.shape)"
      ],
      "execution_count": 22,
      "outputs": [
        {
          "output_type": "stream",
          "name": "stdout",
          "text": [
            "(1338, 6) (1070, 6) (268, 6)\n"
          ]
        }
      ]
    },
    {
      "cell_type": "code",
      "metadata": {
        "id": "ub8WgnC887Fs"
      },
      "source": [
        "#initialize the linear regression model\n",
        "reg = linear_model.LinearRegression()"
      ],
      "execution_count": 23,
      "outputs": []
    },
    {
      "cell_type": "code",
      "metadata": {
        "id": "Ka1wzmL687Ft",
        "colab": {
          "base_uri": "https://localhost:8080/"
        },
        "outputId": "dd083ef4-142c-4d43-87d0-59e44977c585"
      },
      "source": [
        "#train the model\n",
        "reg.fit(x_train, y_train)"
      ],
      "execution_count": 24,
      "outputs": [
        {
          "output_type": "execute_result",
          "data": {
            "text/plain": [
              "LinearRegression()"
            ]
          },
          "metadata": {},
          "execution_count": 24
        }
      ]
    },
    {
      "cell_type": "code",
      "metadata": {
        "id": "08Ntu9QH87Fu",
        "colab": {
          "base_uri": "https://localhost:8080/"
        },
        "outputId": "109d4541-38dd-4209-eaba-645c21ef8ec3"
      },
      "source": [
        "y_pred = reg.predict(x_test)\n",
        "print(y_pred)"
      ],
      "execution_count": 25,
      "outputs": [
        {
          "output_type": "stream",
          "name": "stdout",
          "text": [
            "[ 8604.63162749  7224.64710829 37041.91055913  9600.91843828\n",
            " 27153.93816218 11110.18188476   347.76142491 17041.24403852\n",
            "   747.65640922 11376.56844509 28398.75471585  9537.75418448\n",
            "  5218.91395199 38373.31963402 40193.92548005 37033.4673186\n",
            " 15166.15908883 35856.41073515  9078.30708835 31653.17645453\n",
            "  4122.41987769 10389.27615408  2647.13484739  6751.74946118\n",
            " 11449.07843952 12582.68746839 14760.86811239  6318.26854729\n",
            "  9587.2321289   2123.82302575  9376.09159569 13216.8797223\n",
            "  4520.04132026  3601.20742853  4732.25814656 12636.62655935\n",
            "  2259.29897638  9078.10879076 33446.84784636 32547.28298205\n",
            "  4175.65300383  4507.46503398 14392.12581094 11600.77793295\n",
            "  8729.97618288 12362.07650819  5428.52709313  3427.62168083\n",
            " 35457.72799834  9088.48348016 15766.89725899  2312.11853849\n",
            " 12496.21925577  1114.95992868 13316.55657479 12184.00473158\n",
            "  3993.07039008 32340.37530008 13577.10144119 12527.24725226\n",
            " 14424.27333628 10424.74853597 16604.64980223  7933.87943057\n",
            " 11465.97618712  4220.14990469 26948.14665453 10876.88356623\n",
            "  2310.38911802  6467.97424718 10358.12347122 11241.70435608\n",
            " 10911.97062098  9096.14517464 11900.79403488  6692.75236091\n",
            "  6872.68570746 10915.08394338  6525.23857244  9029.13712903\n",
            "  3709.92203656 36278.45026822  6644.90022804 30486.61924684\n",
            " 34788.61250323 34909.08608034  6974.98321398 13021.8741218\n",
            " 10101.56442962 14719.4371896  17292.01283909 35235.963403\n",
            " 32668.24746523  5799.73712534 31978.62999405  9741.95260234\n",
            " 29408.6126554   3626.40872995 28513.37533099  5468.59695372\n",
            "  5571.55505073  2161.28920118 11445.59478884 15321.61787256\n",
            " 11344.3698446   4256.72484657  9842.73398483 31692.14178513\n",
            "  -427.3140398  32802.75484028  3552.3826115  10098.2054653\n",
            " 13931.51930474 31276.97075618 11085.61871187  4198.45067997\n",
            " 12730.62051205 32099.855118    8097.08675657  3422.96362123\n",
            "  8074.71529704 10744.75120329 14826.53206466  5608.06764943\n",
            "  3939.0576879  10393.01633696 10823.06505307 10733.2719839\n",
            " 14371.66707062  7363.12296151  5331.04986751  9163.26290776\n",
            "  9293.78642801 12150.78091314  8600.99702356 15580.73522501\n",
            "  8015.07595967 32086.61413266 35966.63393146 31254.99589184\n",
            "  6185.28856432 12215.2006502   5953.64194646 14690.90516077\n",
            "  2444.84914874 33253.61901067  6445.54455304  5307.62122231\n",
            " 14488.48350771  7209.3540948  38840.97794309  3251.73788679\n",
            "  5811.86947211 31316.65902046 11714.78492417  8104.04387077\n",
            " 14417.30260776  9770.77350885 27074.97322767 33101.28854819\n",
            " 14153.34251244  1843.63704136 13431.07161099  1861.54873888\n",
            "  5713.66550789 11508.82138582 40074.05052801 36687.35674117\n",
            " 33658.32636238  4170.31524632  7734.3653392   8923.40331617\n",
            " 12069.29139779  4972.8992842   2327.60984958 32084.23912055\n",
            " 25413.53027196 17414.59705524 26625.46472229 10333.49795514\n",
            " 36887.40338212  -793.23738964  6966.35667621  8042.7037261\n",
            "  3999.60128767  5251.784411    5534.0888753   4581.62710684\n",
            " 15101.67700859 11278.43398352  7188.88408644  2171.38825095\n",
            "  1186.15209667 32222.16742534 16331.41346893 11950.01133852\n",
            "  1441.30470176 12154.61381467  1199.08509691  9009.6732312\n",
            "  2043.42304154 34113.20262447 10776.48340231  2785.99976004\n",
            " 25642.32420819 26345.02563288  9593.06971425  1984.21637564\n",
            " 13208.31179541  1408.17360197 10663.71689549 10526.34183997\n",
            " 16539.08016086 26842.48645288  6905.22982799  4814.80484758\n",
            "  5809.47946115 13159.5857756  11040.81009509  8300.82623607\n",
            "  5286.62993241 12445.55943932 13766.85446559 35738.82021513\n",
            "  4319.16952124 28897.97319323  -621.50948107  3046.43493893\n",
            " 10981.29544409 15609.80550425  5173.5254413   7083.94719623\n",
            "  4131.64093196 31605.61122932  7407.60897209 12358.50424743\n",
            "  5789.24148039  9789.60643763 36270.42059174  4390.77328326\n",
            "  9294.33770875 31440.73309373  5910.72313654  4549.67787909\n",
            "  1235.93941072  5010.3181153   4847.33770006  6774.81188667\n",
            " 18579.5818728  -1345.69310174  2652.58945188 10947.6941379\n",
            "  3431.38813061  9832.09865466  3888.82643434  5064.20847739\n",
            " 12665.08124615  6372.08295189  7862.7608738   7212.09943519\n",
            "  9084.18074999 10655.84190457 27803.17443312 39019.13832977\n",
            " 11931.21213975  7307.10322923 40850.6571156  12572.6507618 ]\n"
          ]
        }
      ]
    },
    {
      "cell_type": "code",
      "metadata": {
        "id": "J1muvS4287Fv",
        "colab": {
          "base_uri": "https://localhost:8080/"
        },
        "outputId": "8cafdf2b-42c1-4ad2-e582-70b39a198512"
      },
      "source": [
        "#print the actual values\n",
        "print(y_test)"
      ],
      "execution_count": 26,
      "outputs": [
        {
          "output_type": "stream",
          "name": "stdout",
          "text": [
            "764      9095.07\n",
            "887      5272.18\n",
            "890     29330.98\n",
            "1293     9301.89\n",
            "259     33750.29\n",
            "          ...   \n",
            "109     47055.53\n",
            "575     12222.90\n",
            "535      6067.13\n",
            "543     63770.43\n",
            "846      9872.70\n",
            "Name: charges, Length: 268, dtype: float64\n"
          ]
        }
      ]
    },
    {
      "cell_type": "code",
      "metadata": {
        "id": "IyaJ6xmW87Fv",
        "colab": {
          "base_uri": "https://localhost:8080/"
        },
        "outputId": "4838b4c1-ac67-47d6-9c14-1eccd581a582"
      },
      "source": [
        "reg.score(x_train,y_train)"
      ],
      "execution_count": 27,
      "outputs": [
        {
          "output_type": "execute_result",
          "data": {
            "text/plain": [
              "0.7413393765020014"
            ]
          },
          "metadata": {},
          "execution_count": 27
        }
      ]
    },
    {
      "cell_type": "code",
      "metadata": {
        "id": "qs_48bvq87Fw"
      },
      "source": [
        "#prediction\n",
        "training_data_pred = reg.predict(x_train)"
      ],
      "execution_count": 28,
      "outputs": []
    },
    {
      "cell_type": "code",
      "metadata": {
        "id": "5AEL0Sxb87Fx",
        "colab": {
          "base_uri": "https://localhost:8080/"
        },
        "outputId": "8f7810d5-c63b-4c57-e602-8c73844d4c74"
      },
      "source": [
        "# R Squared value\n",
        "R2_train = metrics.r2_score(y_train,training_data_pred)\n",
        "print('R_squared value ;',R2_train )"
      ],
      "execution_count": 29,
      "outputs": [
        {
          "output_type": "stream",
          "name": "stdout",
          "text": [
            "R_squared value ; 0.7413393765020014\n"
          ]
        }
      ]
    },
    {
      "cell_type": "code",
      "metadata": {
        "id": "BHpJLpeS87Fy"
      },
      "source": [
        "test_data_pred = reg.predict(x_test)"
      ],
      "execution_count": 30,
      "outputs": []
    },
    {
      "cell_type": "code",
      "metadata": {
        "id": "3agr70aZ87Fz",
        "colab": {
          "base_uri": "https://localhost:8080/"
        },
        "outputId": "9b82f2f6-b33c-43b2-f0d9-ae43e69016b6"
      },
      "source": [
        "# R Squared value\n",
        "R2_test = metrics.r2_score(y_test,test_data_pred)\n",
        "print('R_squared value ;',R2_test )"
      ],
      "execution_count": 31,
      "outputs": [
        {
          "output_type": "stream",
          "name": "stdout",
          "text": [
            "R_squared value ; 0.7830013256877739\n"
          ]
        }
      ]
    },
    {
      "cell_type": "code",
      "metadata": {
        "id": "Lg95YUCJ87Fz",
        "colab": {
          "base_uri": "https://localhost:8080/",
          "height": 301
        },
        "outputId": "e9e35008-676b-4474-d456-72777efa5dcb"
      },
      "source": [
        "fig, ax = plt.subplots()\n",
        "ax.scatter(y_test, test_data_pred, edgecolors=(0, 0, 0))\n",
        "ax.plot([y_test.min(), y_test.max()], [y_test.min(), y_test.max()], 'k--', lw=4)\n",
        "ax.set_xlabel('Actual')\n",
        "ax.set_ylabel('Predicted')\n",
        "ax.set_title(\"Actual Charges vs Predicted\")\n",
        "plt.show()"
      ],
      "execution_count": 32,
      "outputs": [
        {
          "output_type": "display_data",
          "data": {
            "image/png": "[encoded data removed]",
            "text/plain": [
              "<Figure size 432x288 with 1 Axes>"
            ]
          },
          "metadata": {}
        }
      ]
    },
    {
      "cell_type": "code",
      "metadata": {
        "id": "MR2d1YYT87F0",
        "colab": {
          "base_uri": "https://localhost:8080/",
          "height": 206
        },
        "outputId": "ef433cea-8b4e-4c57-bc2a-454771c0a060"
      },
      "source": [
        "data.head()"
      ],
      "execution_count": 33,
      "outputs": [
        {
          "output_type": "execute_result",
          "data": {
            "text/html": [
              "<div>\n",
              "<style scoped>\n",
              "    .dataframe tbody tr th:only-of-type {\n",
              "        vertical-align: middle;\n",
              "    }\n",
              "\n",
              "    .dataframe tbody tr th {\n",
              "        vertical-align: top;\n",
              "    }\n",
              "\n",
              "    .dataframe thead th {\n",
              "        text-align: right;\n",
              "    }\n",
              "</style>\n",
              "<table border=\"1\" class=\"dataframe\">\n",
              "  <thead>\n",
              "    <tr style=\"text-align: right;\">\n",
              "      <th></th>\n",
              "      <th>age</th>\n",
              "      <th>sex</th>\n",
              "      <th>bmi</th>\n",
              "      <th>children</th>\n",
              "      <th>smoker</th>\n",
              "      <th>region</th>\n",
              "      <th>charges</th>\n",
              "    </tr>\n",
              "  </thead>\n",
              "  <tbody>\n",
              "    <tr>\n",
              "      <th>0</th>\n",
              "      <td>19</td>\n",
              "      <td>1</td>\n",
              "      <td>27.9</td>\n",
              "      <td>0</td>\n",
              "      <td>0</td>\n",
              "      <td>1</td>\n",
              "      <td>16884.92</td>\n",
              "    </tr>\n",
              "    <tr>\n",
              "      <th>1</th>\n",
              "      <td>18</td>\n",
              "      <td>0</td>\n",
              "      <td>33.8</td>\n",
              "      <td>1</td>\n",
              "      <td>1</td>\n",
              "      <td>0</td>\n",
              "      <td>1725.55</td>\n",
              "    </tr>\n",
              "    <tr>\n",
              "      <th>2</th>\n",
              "      <td>28</td>\n",
              "      <td>0</td>\n",
              "      <td>33.0</td>\n",
              "      <td>3</td>\n",
              "      <td>1</td>\n",
              "      <td>0</td>\n",
              "      <td>4449.46</td>\n",
              "    </tr>\n",
              "    <tr>\n",
              "      <th>3</th>\n",
              "      <td>33</td>\n",
              "      <td>0</td>\n",
              "      <td>22.7</td>\n",
              "      <td>0</td>\n",
              "      <td>1</td>\n",
              "      <td>3</td>\n",
              "      <td>21984.47</td>\n",
              "    </tr>\n",
              "    <tr>\n",
              "      <th>4</th>\n",
              "      <td>32</td>\n",
              "      <td>0</td>\n",
              "      <td>28.9</td>\n",
              "      <td>0</td>\n",
              "      <td>1</td>\n",
              "      <td>3</td>\n",
              "      <td>3866.86</td>\n",
              "    </tr>\n",
              "  </tbody>\n",
              "</table>\n",
              "</div>"
            ],
            "text/plain": [
              "   age  sex   bmi  children  smoker  region   charges\n",
              "0   19    1  27.9         0       0       1  16884.92\n",
              "1   18    0  33.8         1       1       0   1725.55\n",
              "2   28    0  33.0         3       1       0   4449.46\n",
              "3   33    0  22.7         0       1       3  21984.47\n",
              "4   32    0  28.9         0       1       3   3866.86"
            ]
          },
          "metadata": {},
          "execution_count": 33
        }
      ]
    },
    {
      "cell_type": "markdown",
      "metadata": {
        "id": "nlcvpT1F87F1"
      },
      "source": [
        "### Random Forest Regression"
      ]
    },
    {
      "cell_type": "code",
      "metadata": {
        "id": "qI4UF39e87F1",
        "colab": {
          "base_uri": "https://localhost:8080/"
        },
        "outputId": "2567ac48-79e0-4122-b656-878e6dc525d2"
      },
      "source": [
        "x = data.iloc[:, 0:6].values\n",
        "print(x)\n",
        "y = data.iloc[:, 6].values"
      ],
      "execution_count": 34,
      "outputs": [
        {
          "output_type": "stream",
          "name": "stdout",
          "text": [
            "[[19.   1.  27.9  0.   0.   1. ]\n",
            " [18.   0.  33.8  1.   1.   0. ]\n",
            " [28.   0.  33.   3.   1.   0. ]\n",
            " ...\n",
            " [18.   1.  36.9  0.   1.   0. ]\n",
            " [21.   1.  25.8  0.   1.   1. ]\n",
            " [61.   1.  29.1  0.   0.   3. ]]\n"
          ]
        }
      ]
    },
    {
      "cell_type": "code",
      "metadata": {
        "id": "qSrcRJdA87F2"
      },
      "source": [
        "#split the data into 80% training and 20% testing data\n",
        "x_train, x_test, y_train, y_test = train_test_split(x,y, test_size=0.2,random_state=0)"
      ],
      "execution_count": 35,
      "outputs": []
    },
    {
      "cell_type": "code",
      "metadata": {
        "id": "fO7kL3-y87F3",
        "colab": {
          "base_uri": "https://localhost:8080/"
        },
        "outputId": "cd1ea653-17d0-4d69-ab34-887b9518ec9b"
      },
      "source": [
        "print(y)"
      ],
      "execution_count": 36,
      "outputs": [
        {
          "output_type": "stream",
          "name": "stdout",
          "text": [
            "[16884.92  1725.55  4449.46 ...  1629.83  2007.95 29141.36]\n"
          ]
        }
      ]
    },
    {
      "cell_type": "code",
      "metadata": {
        "id": "35mmlhgI87F4"
      },
      "source": [
        "from sklearn.ensemble import RandomForestRegressor"
      ],
      "execution_count": 37,
      "outputs": []
    },
    {
      "cell_type": "code",
      "metadata": {
        "id": "7szWZBk787F4"
      },
      "source": [
        "regressor = RandomForestRegressor(n_estimators = 100, random_state = 0)"
      ],
      "execution_count": 38,
      "outputs": []
    },
    {
      "cell_type": "code",
      "metadata": {
        "id": "xswRI29b87F5",
        "colab": {
          "base_uri": "https://localhost:8080/"
        },
        "outputId": "66eaa615-79a5-4d66-a21a-dbfc242cb540"
      },
      "source": [
        "regressor.fit(x, y)  "
      ],
      "execution_count": 39,
      "outputs": [
        {
          "output_type": "execute_result",
          "data": {
            "text/plain": [
              "RandomForestRegressor(random_state=0)"
            ]
          },
          "metadata": {},
          "execution_count": 39
        }
      ]
    },
    {
      "cell_type": "code",
      "metadata": {
        "id": "zfD4QeA187F5",
        "colab": {
          "base_uri": "https://localhost:8080/"
        },
        "outputId": "0147a2c1-2e0e-4d21-f976-97713360133c"
      },
      "source": [
        "y_pred = regressor.predict(x_test)\n",
        "print(y_pred)"
      ],
      "execution_count": 40,
      "outputs": [
        {
          "output_type": "stream",
          "name": "stdout",
          "text": [
            "[10063.5622      9045.4889     45641.5534     13057.7573\n",
            "  9572.1895      6930.5458      2184.9309     11965.655\n",
            "  7592.0346      5618.3233      8670.2684     13004.8326\n",
            "  7693.8999      5653.0753     21111.6507     12371.1415\n",
            " 13114.9189      5078.6904      6634.5637     33567.1229\n",
            " 23975.6032     12583.8831     18154.8608     25286.3714\n",
            "  2621.5395      4872.1309      4000.6716      8183.2362\n",
            "  3878.8299      9575.2724      8005.496      48723.9141\n",
            " 13398.9282     17288.8949     15428.7103      3955.3315\n",
            "  8434.1765     46497.0398     40033.5527      3439.1626\n",
            "  6139.9937      3110.9486     20510.2518     47824.9567\n",
            " 36386.1357     18741.9639     16700.93        6939.5943\n",
            "  4823.8918     18992.1372      3622.9516     17679.422\n",
            " 24926.6956     46728.2726     20299.7415      4982.3235\n",
            "  2461.992       9897.2975     12616.1236     14475.9194\n",
            "  1293.8237     46655.3723     14727.2292     11276.1978\n",
            " 13358.0405     10036.0412     33060.5431     39695.8284\n",
            "  3901.0397      9230.6605     14932.9236     12784.8479\n",
            " 16480.7344     14158.1714     14292.3993     14582.0277\n",
            "  8556.6309      8017.5213     20374.209      47659.176\n",
            " 11634.5706     46106.9971      2325.7852      8052.5908\n",
            " 40885.1598     18996.8029      3860.4191      2792.585\n",
            " 12733.8119     37278.605       6507.4627     11236.5208\n",
            " 13108.2196      8696.5733      4993.2335      5722.5086\n",
            " 42489.4951     43346.4717      5682.7387     11531.6127\n",
            "  2330.5655      5333.5953      5235.7595     37531.4352\n",
            " 30747.5866      3537.5167     10769.921       6243.4673\n",
            " 11852.9935     50248.5507     12562.3816      4598.637\n",
            "  9379.2508     33897.7245     47824.1699      7594.26\n",
            "  1980.6181      9079.4897     16174.0903     10751.3377\n",
            " 41989.9138     10989.6679     14250.0862      6353.8333\n",
            "  8068.9087      5350.5366     24998.3223     23933.3223\n",
            " 48392.1709      1905.1514      9683.2066      2765.8146\n",
            "  5945.8111      9368.2029     30165.9051     36292.2946\n",
            " 20880.3982     10678.1323     23486.7865      4701.833\n",
            "  2266.6626     11245.0362      9364.536      10866.6425\n",
            "  5910.7543     14228.4875     23514.7294     11820.9243\n",
            "  1628.4312     19716.5669      6400.7835     39780.7402\n",
            " 11076.7228      2381.0403      3690.6342      6906.7083\n",
            "  2680.6546      2125.4587     11400.8631     10787.368\n",
            "  6825.9966     13050.265      24263.4736      9512.4141\n",
            "  4356.3907     14599.2263     14596.5499      7234.0637\n",
            "  4495.1349      1759.4889      6332.5544      4720.4399\n",
            "  9422.3249      2249.4283      4375.9605      5112.3668\n",
            "  5095.2217      6732.8948     29260.6266      1711.2963\n",
            " 13227.8642      6712.5006     11403.215       2943.8503\n",
            " 19689.1615     28429.6955      2192.0468      2614.6356\n",
            " 14644.4381     10862.9272     41325.1125      3993.5004\n",
            "  5421.3081     22478.2456      3100.355       2371.48\n",
            "  7396.4247      7020.9732      4598.3333      4312.3134\n",
            " 11668.7443     47157.7633     12612.7979     19261.1496\n",
            "  5289.394      42921.8053     18119.8709     11766.3222\n",
            "  6137.224       1173.1099      9325.7588     13867.3688\n",
            "  5611.0521      8788.6026      6392.1729      4314.1344\n",
            "  6658.2536      6531.9325     14116.7279      7139.4277\n",
            "  6428.6192      7917.9111      9642.1637      3812.7971\n",
            " 12184.2529     14250.1703     15376.8981     11946.717\n",
            "  7285.0875      2746.1598      2643.36565     8569.8738\n",
            " 13505.2604      6581.9277     12312.5131      6906.3248\n",
            " 11377.6314     34279.0575      6294.088      13057.9001\n",
            "  6049.933      37754.8699      7504.0697      7368.5707\n",
            "  9523.3235     11594.2247      4520.1149      8045.7901\n",
            "  2628.52        7053.7542     19489.8828     47274.867\n",
            "  4094.2988      4248.7965      6924.43013     1703.2713\n",
            "  7468.6595      1953.26103333  7520.7991      6304.1105\n",
            "  8582.6723     24615.5371     46439.2179     15757.326\n",
            "  6691.6126     17439.7273     41488.2361     10016.4767    ]\n"
          ]
        }
      ]
    },
    {
      "cell_type": "code",
      "metadata": {
        "id": "f4yGJU3887F6",
        "colab": {
          "base_uri": "https://localhost:8080/"
        },
        "outputId": "2837c496-13dc-4910-c2a8-3ffb73f592a6"
      },
      "source": [
        "#print the actual values\n",
        "print(y_test)"
      ],
      "execution_count": 41,
      "outputs": [
        {
          "output_type": "stream",
          "name": "stdout",
          "text": [
            "[ 9724.53  8547.69 45702.02 12950.07  9644.25  4500.34  2198.19 11436.74\n",
            "  7537.16  5425.02  6753.04 10493.95  7337.75  4185.1  18310.74 10702.64\n",
            " 12523.6   3490.55  6457.84 33475.82 23967.38 12643.38 23045.57 23065.42\n",
            "  1674.63  4667.61  3732.63  7682.67  3756.62  8413.46  8059.68 48970.25\n",
            " 12979.36 20630.28 14571.89  4137.52  8347.16 51194.56 40003.33  1880.49\n",
            "  5458.05  2867.12 20149.32 47496.49 36149.48 26018.95 19749.38  6940.91\n",
            "  4718.2  22192.44  2899.49 18838.7  23568.27 46255.11 24227.34  3268.85\n",
            "  2322.62  8827.21 14478.33 13112.6   1253.94 46718.16 13919.82  9630.4\n",
            " 10736.87  9880.07 32548.34 38746.36  3180.51  8162.72 13041.92 11554.22\n",
            " 16232.85 13887.97 13012.21 13217.09  7147.11  7731.43 20296.86 47403.88\n",
            " 11658.38 45863.21  2055.32  7441.05 41034.22 18972.5   3410.32  2699.57\n",
            " 12333.83 36837.47  6334.34 10214.64 17878.9   8515.76  4518.83  5148.55\n",
            " 42303.69 38998.55  5327.4  10602.39  1824.29  5377.46  4349.46 37742.58\n",
            " 32787.46  3353.47 10577.09  3556.92 11944.59 52590.83 12475.35  4266.17\n",
            "  9249.5  33732.69 48675.52  7729.65  1964.78  8444.47 12347.17  9301.89\n",
            " 42124.52  9991.04 14319.03  5428.73  7626.99  4906.41 23401.31 21098.55\n",
            " 48173.36  1917.32  8219.2   1725.55  5976.83  9361.33 22144.03 35491.64\n",
            " 19515.54 10107.22 23244.79  2789.06  2261.57 10594.5   9304.7  10435.07\n",
            "  4894.75 14313.85 28287.9  14426.07  1627.28 25517.11  6555.07 39611.76\n",
            "  9964.06  1720.35  2730.11  6500.24  2643.27  1719.44 11085.59 10115.01\n",
            "  4846.92 12982.87 28923.14  9391.35  4544.23 17128.43 13844.51  6113.23\n",
            "  4441.21  1633.96  4058.71  4435.09  8310.84  1986.93  4260.74  4504.66\n",
            "  4428.89  6117.49 30184.94  1708.93 11187.66  6796.86 11356.66  2498.41\n",
            " 27375.9  28101.33  2254.8   2597.78 14692.67 10370.91 41097.16  3981.98\n",
            "  5472.45 21223.68  2534.39  1972.95  6406.41  6551.75  4058.12  4243.59\n",
            " 11512.41 46889.26 12268.63 19199.94  4433.39 42969.85 23241.47  9140.95\n",
            "  5836.52  1149.4   8765.25 14043.48  5312.17 10795.94  6282.24  1969.61\n",
            "  6746.74  5354.07 14001.29  6877.98  6196.45  7986.48  8277.52  3206.49\n",
            " 11848.14 14210.54 12265.51 11837.16  6652.53  2137.65  1131.51  8342.91\n",
            " 12244.53  4561.19 17626.24  6875.96  9447.38 34254.05  6067.13 11729.68\n",
            "  5383.54 37465.34  7371.77  7325.05  8410.05 10461.98  3279.87  7727.25\n",
            "  2731.91  6858.48 19521.97 47305.31  3987.93  3238.44  7323.73  1704.57\n",
            "  7445.92  1629.83  4877.98  3561.89  8605.36 24520.26 45710.21 15019.76\n",
            "  6664.69 20709.02 40932.43  9500.57]\n"
          ]
        }
      ]
    },
    {
      "cell_type": "code",
      "metadata": {
        "id": "Y74pm92M87F7",
        "colab": {
          "base_uri": "https://localhost:8080/"
        },
        "outputId": "2242e9b3-6431-4cc2-b2ee-a4c780f1a5e4"
      },
      "source": [
        "regressor.score(x,y)"
      ],
      "execution_count": 42,
      "outputs": [
        {
          "output_type": "execute_result",
          "data": {
            "text/plain": [
              "0.9766382908892518"
            ]
          },
          "metadata": {},
          "execution_count": 42
        }
      ]
    },
    {
      "cell_type": "code",
      "metadata": {
        "id": "xzYzUcO487F7",
        "colab": {
          "base_uri": "https://localhost:8080/",
          "height": 520
        },
        "outputId": "148f671f-6225-4f8f-f016-c10ed3884701"
      },
      "source": [
        "data.head(15)"
      ],
      "execution_count": 43,
      "outputs": [
        {
          "output_type": "execute_result",
          "data": {
            "text/html": [
              "<div>\n",
              "<style scoped>\n",
              "    .dataframe tbody tr th:only-of-type {\n",
              "        vertical-align: middle;\n",
              "    }\n",
              "\n",
              "    .dataframe tbody tr th {\n",
              "        vertical-align: top;\n",
              "    }\n",
              "\n",
              "    .dataframe thead th {\n",
              "        text-align: right;\n",
              "    }\n",
              "</style>\n",
              "<table border=\"1\" class=\"dataframe\">\n",
              "  <thead>\n",
              "    <tr style=\"text-align: right;\">\n",
              "      <th></th>\n",
              "      <th>age</th>\n",
              "      <th>sex</th>\n",
              "      <th>bmi</th>\n",
              "      <th>children</th>\n",
              "      <th>smoker</th>\n",
              "      <th>region</th>\n",
              "      <th>charges</th>\n",
              "    </tr>\n",
              "  </thead>\n",
              "  <tbody>\n",
              "    <tr>\n",
              "      <th>0</th>\n",
              "      <td>19</td>\n",
              "      <td>1</td>\n",
              "      <td>27.9</td>\n",
              "      <td>0</td>\n",
              "      <td>0</td>\n",
              "      <td>1</td>\n",
              "      <td>16884.92</td>\n",
              "    </tr>\n",
              "    <tr>\n",
              "      <th>1</th>\n",
              "      <td>18</td>\n",
              "      <td>0</td>\n",
              "      <td>33.8</td>\n",
              "      <td>1</td>\n",
              "      <td>1</td>\n",
              "      <td>0</td>\n",
              "      <td>1725.55</td>\n",
              "    </tr>\n",
              "    <tr>\n",
              "      <th>2</th>\n",
              "      <td>28</td>\n",
              "      <td>0</td>\n",
              "      <td>33.0</td>\n",
              "      <td>3</td>\n",
              "      <td>1</td>\n",
              "      <td>0</td>\n",
              "      <td>4449.46</td>\n",
              "    </tr>\n",
              "    <tr>\n",
              "      <th>3</th>\n",
              "      <td>33</td>\n",
              "      <td>0</td>\n",
              "      <td>22.7</td>\n",
              "      <td>0</td>\n",
              "      <td>1</td>\n",
              "      <td>3</td>\n",
              "      <td>21984.47</td>\n",
              "    </tr>\n",
              "    <tr>\n",
              "      <th>4</th>\n",
              "      <td>32</td>\n",
              "      <td>0</td>\n",
              "      <td>28.9</td>\n",
              "      <td>0</td>\n",
              "      <td>1</td>\n",
              "      <td>3</td>\n",
              "      <td>3866.86</td>\n",
              "    </tr>\n",
              "    <tr>\n",
              "      <th>5</th>\n",
              "      <td>31</td>\n",
              "      <td>1</td>\n",
              "      <td>25.7</td>\n",
              "      <td>0</td>\n",
              "      <td>1</td>\n",
              "      <td>0</td>\n",
              "      <td>3756.62</td>\n",
              "    </tr>\n",
              "    <tr>\n",
              "      <th>6</th>\n",
              "      <td>46</td>\n",
              "      <td>1</td>\n",
              "      <td>33.4</td>\n",
              "      <td>1</td>\n",
              "      <td>1</td>\n",
              "      <td>0</td>\n",
              "      <td>8240.59</td>\n",
              "    </tr>\n",
              "    <tr>\n",
              "      <th>7</th>\n",
              "      <td>37</td>\n",
              "      <td>1</td>\n",
              "      <td>27.7</td>\n",
              "      <td>3</td>\n",
              "      <td>1</td>\n",
              "      <td>3</td>\n",
              "      <td>7281.51</td>\n",
              "    </tr>\n",
              "    <tr>\n",
              "      <th>8</th>\n",
              "      <td>37</td>\n",
              "      <td>0</td>\n",
              "      <td>29.8</td>\n",
              "      <td>2</td>\n",
              "      <td>1</td>\n",
              "      <td>2</td>\n",
              "      <td>6406.41</td>\n",
              "    </tr>\n",
              "    <tr>\n",
              "      <th>9</th>\n",
              "      <td>60</td>\n",
              "      <td>1</td>\n",
              "      <td>25.8</td>\n",
              "      <td>0</td>\n",
              "      <td>1</td>\n",
              "      <td>3</td>\n",
              "      <td>28923.14</td>\n",
              "    </tr>\n",
              "    <tr>\n",
              "      <th>10</th>\n",
              "      <td>25</td>\n",
              "      <td>0</td>\n",
              "      <td>26.2</td>\n",
              "      <td>0</td>\n",
              "      <td>1</td>\n",
              "      <td>2</td>\n",
              "      <td>2721.32</td>\n",
              "    </tr>\n",
              "    <tr>\n",
              "      <th>11</th>\n",
              "      <td>62</td>\n",
              "      <td>1</td>\n",
              "      <td>26.3</td>\n",
              "      <td>0</td>\n",
              "      <td>0</td>\n",
              "      <td>0</td>\n",
              "      <td>27808.73</td>\n",
              "    </tr>\n",
              "    <tr>\n",
              "      <th>12</th>\n",
              "      <td>23</td>\n",
              "      <td>0</td>\n",
              "      <td>34.4</td>\n",
              "      <td>0</td>\n",
              "      <td>1</td>\n",
              "      <td>1</td>\n",
              "      <td>1826.84</td>\n",
              "    </tr>\n",
              "    <tr>\n",
              "      <th>13</th>\n",
              "      <td>56</td>\n",
              "      <td>1</td>\n",
              "      <td>39.8</td>\n",
              "      <td>0</td>\n",
              "      <td>1</td>\n",
              "      <td>0</td>\n",
              "      <td>11090.72</td>\n",
              "    </tr>\n",
              "    <tr>\n",
              "      <th>14</th>\n",
              "      <td>27</td>\n",
              "      <td>0</td>\n",
              "      <td>42.1</td>\n",
              "      <td>0</td>\n",
              "      <td>0</td>\n",
              "      <td>0</td>\n",
              "      <td>39611.76</td>\n",
              "    </tr>\n",
              "  </tbody>\n",
              "</table>\n",
              "</div>"
            ],
            "text/plain": [
              "    age  sex   bmi  children  smoker  region   charges\n",
              "0    19    1  27.9         0       0       1  16884.92\n",
              "1    18    0  33.8         1       1       0   1725.55\n",
              "2    28    0  33.0         3       1       0   4449.46\n",
              "3    33    0  22.7         0       1       3  21984.47\n",
              "4    32    0  28.9         0       1       3   3866.86\n",
              "5    31    1  25.7         0       1       0   3756.62\n",
              "6    46    1  33.4         1       1       0   8240.59\n",
              "7    37    1  27.7         3       1       3   7281.51\n",
              "8    37    0  29.8         2       1       2   6406.41\n",
              "9    60    1  25.8         0       1       3  28923.14\n",
              "10   25    0  26.2         0       1       2   2721.32\n",
              "11   62    1  26.3         0       0       0  27808.73\n",
              "12   23    0  34.4         0       1       1   1826.84\n",
              "13   56    1  39.8         0       1       0  11090.72\n",
              "14   27    0  42.1         0       0       0  39611.76"
            ]
          },
          "metadata": {},
          "execution_count": 43
        }
      ]
    },
    {
      "cell_type": "code",
      "metadata": {
        "id": "4SbzarGc87F8",
        "colab": {
          "base_uri": "https://localhost:8080/",
          "height": 301
        },
        "outputId": "643d25f9-c6a1-4017-b329-dc82379255c3"
      },
      "source": [
        "fig, ax = plt.subplots()\n",
        "ax.scatter(y_test, y_pred, edgecolors=(0, 0, 0))\n",
        "ax.plot([y_test.min(), y_test.max()], [y_test.min(), y_test.max()], 'k--', lw=4)\n",
        "ax.set_xlabel('Actual')\n",
        "ax.set_ylabel('Predicted')\n",
        "ax.set_title(\"Random Forest Regression\")\n",
        "plt.show()"
      ],
      "execution_count": 44,
      "outputs": [
        {
          "output_type": "display_data",
          "data": {
            "image/png": "[encoded data removed]",
            "text/plain": [
              "<Figure size 432x288 with 1 Axes>"
            ]
          },
          "metadata": {}
        }
      ]
    },
    {
      "cell_type": "markdown",
      "metadata": {
        "id": "943L-9iC87F9"
      },
      "source": [
        "## Result\n",
        "The Random Forest Regressor gave near accurate figures, hence, it was the best performance.The Random Forest Regressor gave an R_squared of 97.6%. It means, 97.6% of the observed variation can be explained by the model's inputs.\n",
        "The Linear Regression had an R_squared of 74%, which means, 74% of the observed variation can be explained by the model's inputs."
      ]
    }
  ]
}